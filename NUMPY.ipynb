{
 "cells": [
  {
   "cell_type": "code",
   "execution_count": 3,
   "id": "e979b69c",
   "metadata": {},
   "outputs": [],
   "source": [
    "import numpy as np"
   ]
  },
  {
   "cell_type": "code",
   "execution_count": 4,
   "id": "d23dbda9",
   "metadata": {},
   "outputs": [
    {
     "name": "stdout",
     "output_type": "stream",
     "text": [
      "[2 3 4 5 6 7 8 9]\n",
      "<class 'numpy.ndarray'>\n"
     ]
    }
   ],
   "source": [
    "import numpy as np\n",
    "a=[2,3,4,5,6,7,8,9]\n",
    "b=np.array(a)\n",
    "print(b)\n",
    "print(type(b))"
   ]
  },
  {
   "cell_type": "code",
   "execution_count": 25,
   "id": "93e05064",
   "metadata": {},
   "outputs": [
    {
     "name": "stdout",
     "output_type": "stream",
     "text": [
      "['2' '6' '9.5' '2' '6' '9.5' '2' '6' '9.5']\n"
     ]
    }
   ],
   "source": [
    "a=[2,'6',9.5]\n",
    "b=np.array(a*3)\n",
    "print(b)"
   ]
  },
  {
   "cell_type": "code",
   "execution_count": 26,
   "id": "771f4d4b",
   "metadata": {},
   "outputs": [
    {
     "data": {
      "text/plain": [
       "array([1., 1., 1., 1., 1.])"
      ]
     },
     "execution_count": 26,
     "metadata": {},
     "output_type": "execute_result"
    }
   ],
   "source": [
    "b=np.ones(5)\n",
    "b"
   ]
  },
  {
   "cell_type": "code",
   "execution_count": 16,
   "id": "6d275c6c",
   "metadata": {},
   "outputs": [
    {
     "name": "stdout",
     "output_type": "stream",
     "text": [
      "[[1 1]]\n"
     ]
    }
   ],
   "source": [
    "a=[1,2]\n",
    "b=np.ones(a,dtype=int)\n",
    "print(b)"
   ]
  },
  {
   "cell_type": "code",
   "execution_count": 29,
   "id": "fbbb5b62",
   "metadata": {},
   "outputs": [
    {
     "data": {
      "text/plain": [
       "array([[0, 0, 0, 0],\n",
       "       [0, 0, 0, 0],\n",
       "       [0, 0, 0, 0]])"
      ]
     },
     "execution_count": 29,
     "metadata": {},
     "output_type": "execute_result"
    }
   ],
   "source": [
    "b=np.zeros((3,4),dtype=int)\n",
    "b"
   ]
  },
  {
   "cell_type": "code",
   "execution_count": 17,
   "id": "be9fcba9",
   "metadata": {},
   "outputs": [
    {
     "name": "stdout",
     "output_type": "stream",
     "text": [
      "[[0 0 0 0 0]]\n"
     ]
    }
   ],
   "source": [
    "a=[1,5]\n",
    "b=np.zeros(a,dtype=int)\n",
    "print(b)"
   ]
  },
  {
   "cell_type": "code",
   "execution_count": 30,
   "id": "6cc811a4",
   "metadata": {},
   "outputs": [
    {
     "name": "stdout",
     "output_type": "stream",
     "text": [
      "[5 5 5]\n"
     ]
    }
   ],
   "source": [
    "b=np.full(3,5)\n",
    "print(b)"
   ]
  },
  {
   "cell_type": "code",
   "execution_count": 32,
   "id": "bb1ecc9c",
   "metadata": {},
   "outputs": [
    {
     "data": {
      "text/plain": [
       "array([[5, 5, 5, 5],\n",
       "       [5, 5, 5, 5],\n",
       "       [5, 5, 5, 5]])"
      ]
     },
     "execution_count": 32,
     "metadata": {},
     "output_type": "execute_result"
    }
   ],
   "source": [
    "b=np.full((3,4),5)\n",
    "b"
   ]
  },
  {
   "cell_type": "code",
   "execution_count": 40,
   "id": "3e416741",
   "metadata": {},
   "outputs": [
    {
     "data": {
      "text/plain": [
       "array([6.23042070e-307, 4.67296746e-307, 1.69121096e-306, 7.56599128e-307,\n",
       "       1.42413555e-306, 1.78019082e-306, 4.79243676e-322])"
      ]
     },
     "execution_count": 40,
     "metadata": {},
     "output_type": "execute_result"
    }
   ],
   "source": [
    "b=np.empty(7)\n",
    "b"
   ]
  },
  {
   "cell_type": "code",
   "execution_count": 48,
   "id": "ea77291a",
   "metadata": {},
   "outputs": [
    {
     "data": {
      "text/plain": [
       "array([0, 0, 0, 0, 1, 0, 0, 0, 0, 0])"
      ]
     },
     "execution_count": 48,
     "metadata": {},
     "output_type": "execute_result"
    }
   ],
   "source": [
    "import numpy as np\n",
    "a=np.zeros(10,dtype=int)\n",
    "a[4]=1\n",
    "a"
   ]
  },
  {
   "cell_type": "code",
   "execution_count": 50,
   "id": "d4bfd0ca",
   "metadata": {},
   "outputs": [
    {
     "data": {
      "text/plain": [
       "array([ 2,  6, 10, 14, 18])"
      ]
     },
     "execution_count": 50,
     "metadata": {},
     "output_type": "execute_result"
    }
   ],
   "source": [
    "a = np.arange(2,20,4)\n",
    "a "
   ]
  },
  {
   "cell_type": "code",
   "execution_count": 51,
   "id": "81e94ad6",
   "metadata": {},
   "outputs": [
    {
     "data": {
      "text/plain": [
       "array([ 2,  3,  4,  5,  6,  7,  8,  9, 10, 11, 12, 13, 14, 15, 16, 17, 18,\n",
       "       19])"
      ]
     },
     "execution_count": 51,
     "metadata": {},
     "output_type": "execute_result"
    }
   ],
   "source": [
    "a = np.arange(2,20)\n",
    "a"
   ]
  },
  {
   "cell_type": "code",
   "execution_count": 52,
   "id": "2a2e643a",
   "metadata": {},
   "outputs": [
    {
     "data": {
      "text/plain": [
       "array([ 0,  1,  2,  3,  4,  5,  6,  7,  8,  9, 10, 11, 12, 13, 14, 15, 16,\n",
       "       17, 18, 19])"
      ]
     },
     "execution_count": 52,
     "metadata": {},
     "output_type": "execute_result"
    }
   ],
   "source": [
    "a = np.arange(20)\n",
    "a"
   ]
  },
  {
   "cell_type": "code",
   "execution_count": 71,
   "id": "557a1183",
   "metadata": {},
   "outputs": [
    {
     "name": "stdout",
     "output_type": "stream",
     "text": [
      "0.36734693877551017\n",
      "0.36734693877551017\n"
     ]
    }
   ],
   "source": [
    "a=np.linspace(2,20)\n",
    "a\n",
    "print(a[1]-a[0])\n",
    "print(a[3]-a[2])"
   ]
  },
  {
   "cell_type": "code",
   "execution_count": 74,
   "id": "6c2e7fe2",
   "metadata": {},
   "outputs": [
    {
     "data": {
      "text/plain": [
       "array([ 2,  8, 14])"
      ]
     },
     "execution_count": 74,
     "metadata": {},
     "output_type": "execute_result"
    }
   ],
   "source": [
    "a=np.linspace(2,20,3,dtype=int,endpoint=False) #endpoint = false i.e stop value is not included\n",
    "a"
   ]
  },
  {
   "cell_type": "code",
   "execution_count": 53,
   "id": "d0e57a2a",
   "metadata": {},
   "outputs": [
    {
     "data": {
      "text/plain": [
       "array([[1., 0., 0.],\n",
       "       [0., 1., 0.],\n",
       "       [0., 0., 1.]])"
      ]
     },
     "execution_count": 53,
     "metadata": {},
     "output_type": "execute_result"
    }
   ],
   "source": [
    "a=np.identity(3)\n",
    "a"
   ]
  },
  {
   "cell_type": "code",
   "execution_count": 64,
   "id": "e22bb070",
   "metadata": {},
   "outputs": [
    {
     "data": {
      "text/plain": [
       "array([[1, 0, 0, 0, 0],\n",
       "       [0, 1, 0, 0, 0],\n",
       "       [0, 0, 1, 0, 0],\n",
       "       [0, 0, 0, 1, 0],\n",
       "       [0, 0, 0, 0, 1],\n",
       "       [0, 0, 0, 0, 0]])"
      ]
     },
     "execution_count": 64,
     "metadata": {},
     "output_type": "execute_result"
    }
   ],
   "source": [
    "a=np.eye(6,5, dtype=int)\n",
    "a"
   ]
  },
  {
   "cell_type": "code",
   "execution_count": 59,
   "id": "28d524be",
   "metadata": {},
   "outputs": [
    {
     "data": {
      "text/plain": [
       "0.9421330280006692"
      ]
     },
     "execution_count": 59,
     "metadata": {},
     "output_type": "execute_result"
    }
   ],
   "source": [
    "a=np.random.rand()\n",
    "a"
   ]
  },
  {
   "cell_type": "code",
   "execution_count": 60,
   "id": "b1561d0c",
   "metadata": {},
   "outputs": [
    {
     "data": {
      "text/plain": [
       "array([0.19211961, 0.39762079, 0.12613532, 0.31096077, 0.23067152])"
      ]
     },
     "execution_count": 60,
     "metadata": {},
     "output_type": "execute_result"
    }
   ],
   "source": [
    "a=np.random.rand(5)\n",
    "a"
   ]
  },
  {
   "cell_type": "code",
   "execution_count": 66,
   "id": "ff64bc51",
   "metadata": {},
   "outputs": [
    {
     "data": {
      "text/plain": [
       "4"
      ]
     },
     "execution_count": 66,
     "metadata": {},
     "output_type": "execute_result"
    }
   ],
   "source": [
    "a=np.random.randint(8)\n",
    "a"
   ]
  },
  {
   "cell_type": "code",
   "execution_count": 4,
   "id": "1e491bee",
   "metadata": {},
   "outputs": [
    {
     "data": {
      "text/plain": [
       "array([ 6, 15,  5,  2,  3])"
      ]
     },
     "execution_count": 4,
     "metadata": {},
     "output_type": "execute_result"
    }
   ],
   "source": [
    "import numpy as np\n",
    "a=np.random.randint(2,20,5)\n",
    "a"
   ]
  },
  {
   "cell_type": "markdown",
   "id": "4220b4aa",
   "metadata": {},
   "source": [
    "### 1-D "
   ]
  },
  {
   "cell_type": "code",
   "execution_count": 2,
   "id": "e8177bd0",
   "metadata": {},
   "outputs": [
    {
     "name": "stdout",
     "output_type": "stream",
     "text": [
      "[1, 2, 3, 4, 5]\n",
      "[1 2 3 4 5]\n"
     ]
    }
   ],
   "source": [
    "import numpy as np\n",
    "li=[1,2,3,4,5]\n",
    "arr=np.array(li)\n",
    "\n",
    "print(li)\n",
    "print(arr)"
   ]
  },
  {
   "cell_type": "code",
   "execution_count": 5,
   "id": "7818e772",
   "metadata": {},
   "outputs": [
    {
     "name": "stdout",
     "output_type": "stream",
     "text": [
      "<memory at 0x00000236FFBC8F40>\n",
      "(5,)\n",
      "int32\n",
      "(4,)\n"
     ]
    }
   ],
   "source": [
    "print(arr.data) #location\n",
    "print(arr.shape) #shape\n",
    "print(arr.dtype) #type\n",
    "print(arr.strides) #byte"
   ]
  },
  {
   "cell_type": "code",
   "execution_count": 19,
   "id": "bfeb29bf",
   "metadata": {},
   "outputs": [
    {
     "name": "stdout",
     "output_type": "stream",
     "text": [
      "[1, 2, 3]\n",
      "[2 3 4]\n",
      "3\n"
     ]
    }
   ],
   "source": [
    "print(li[0:3])\n",
    "print(arr[1:4])\n",
    "print(arr[1:4][1])"
   ]
  },
  {
   "cell_type": "code",
   "execution_count": null,
   "id": "0621239c",
   "metadata": {},
   "outputs": [],
   "source": []
  },
  {
   "cell_type": "markdown",
   "id": "2911ae16",
   "metadata": {},
   "source": [
    "### 2-D"
   ]
  },
  {
   "cell_type": "code",
   "execution_count": 11,
   "id": "07c7c59d",
   "metadata": {},
   "outputs": [
    {
     "name": "stdout",
     "output_type": "stream",
     "text": [
      "[[1, 2, 3, 4], [5, 6, 7, 8], [9, 10, 11, 12], [13, 14, 15, 16]]\n",
      "[[ 1  2  3  4]\n",
      " [ 5  6  7  8]\n",
      " [ 9 10 11 12]\n",
      " [13 14 15 16]]\n"
     ]
    }
   ],
   "source": [
    "import numpy as np\n",
    "li_2d=[[1,2,3,4],[5,6,7,8],[9,10,11,12],[13,14,15,16]]\n",
    "arr_2d=np.array(li_2d)\n",
    "\n",
    "print(li_2d)\n",
    "print(arr_2d)"
   ]
  },
  {
   "cell_type": "code",
   "execution_count": 13,
   "id": "3eb96e82",
   "metadata": {},
   "outputs": [
    {
     "name": "stdout",
     "output_type": "stream",
     "text": [
      "<memory at 0x00000236FFC39A00>\n",
      "(4, 4)\n",
      "int32\n",
      "(16, 4)\n"
     ]
    }
   ],
   "source": [
    "print(arr_2d.data) #location\n",
    "print(arr_2d.shape) #shape\n",
    "print(arr_2d.dtype) #type\n",
    "print(arr_2d.strides) #byte"
   ]
  },
  {
   "cell_type": "code",
   "execution_count": 21,
   "id": "48f1ad6b",
   "metadata": {},
   "outputs": [
    {
     "name": "stdout",
     "output_type": "stream",
     "text": [
      "[[1, 2, 3, 4], [5, 6, 7, 8], [9, 10, 11, 12]]\n",
      "[9, 10, 11, 12]\n",
      "[[ 1  2  3  4]\n",
      " [ 5  6  7  8]\n",
      " [ 9 10 11 12]\n",
      " [13 14 15 16]]\n",
      "[5 6 7 8]\n"
     ]
    }
   ],
   "source": [
    "print(li_2d[0:3])\n",
    "print(li_2d[0:3][2])\n",
    "print(arr_2d[0:4])\n",
    "print(arr_2d[0:3][1])"
   ]
  },
  {
   "cell_type": "code",
   "execution_count": 26,
   "id": "e88c131c",
   "metadata": {},
   "outputs": [
    {
     "name": "stdout",
     "output_type": "stream",
     "text": [
      "10\n",
      "10\n",
      "[5, 6, 7]\n",
      "10\n",
      "[5 6 7]\n"
     ]
    }
   ],
   "source": [
    "print(li_2d[0:3][2][1])\n",
    "print(li_2d[2][1])\n",
    "print(li_2d[1][:3])\n",
    "print(arr_2d[2][1])\n",
    "print(arr_2d[1][:3])"
   ]
  },
  {
   "cell_type": "code",
   "execution_count": 30,
   "id": "285e5e6e",
   "metadata": {},
   "outputs": [
    {
     "name": "stdout",
     "output_type": "stream",
     "text": [
      "[9, 10, 11, 12]\n",
      "[ 3  7 11]\n"
     ]
    }
   ],
   "source": [
    "print(li_2d[0:3][2])\n",
    "print(arr_2d[0:3,2])"
   ]
  },
  {
   "cell_type": "code",
   "execution_count": 7,
   "id": "200e479c",
   "metadata": {},
   "outputs": [
    {
     "name": "stdout",
     "output_type": "stream",
     "text": [
      "[[ 6  7]\n",
      " [10 11]]\n"
     ]
    }
   ],
   "source": [
    "import numpy as np\n",
    "li_2d=[[1,2,3,4],[5,6,7,8],[9,10,11,12],[13,14,15,16]]\n",
    "arr_2d=np.array(li_2d)\n",
    "\n",
    "print(arr_2d[1:3,1:3])"
   ]
  },
  {
   "cell_type": "markdown",
   "id": "d0daf484",
   "metadata": {},
   "source": [
    "### Mathematical Operations "
   ]
  },
  {
   "cell_type": "code",
   "execution_count": 8,
   "id": "0c1ac1a9",
   "metadata": {},
   "outputs": [
    {
     "name": "stdout",
     "output_type": "stream",
     "text": [
      "[10 42  6 27 15 31 38 12]\n",
      "[47 22 17 31 23 19 44 35]\n",
      "[57 64 23 58 38 50 82 47]\n",
      "[-37  20 -11  -4  -8  12  -6 -23]\n",
      "[ 470  924  102  837  345  589 1672  420]\n",
      "[          0 -1438646272   193331200  1582498963   300332143  -408824225\n",
      "           0           0]\n",
      "[0.21276596 1.90909091 0.35294118 0.87096774 0.65217391 1.63157895\n",
      " 0.86363636 0.34285714]\n",
      "[0 1 0 0 0 1 0 0]\n"
     ]
    }
   ],
   "source": [
    "import numpy as np\n",
    "a=np.random.randint(2,50,8)\n",
    "b=np.random.randint(2,50,8)\n",
    "c=a+b\n",
    "d=a-b\n",
    "e=a*b\n",
    "f=a**b\n",
    "g=a/b\n",
    "h=a//b\n",
    "print(a)\n",
    "print(b)\n",
    "print(c)\n",
    "print(d)\n",
    "print(e)\n",
    "print(f)\n",
    "print(g)\n",
    "print(h)"
   ]
  },
  {
   "cell_type": "code",
   "execution_count": 13,
   "id": "04bbed68",
   "metadata": {},
   "outputs": [
    {
     "name": "stdout",
     "output_type": "stream",
     "text": [
      "[10 42  6 27 15 31 38 12]\n",
      "181\n",
      "22.625\n",
      "6\n",
      "2\n",
      "42\n",
      "1\n"
     ]
    }
   ],
   "source": [
    "print(a)\n",
    "print(a.sum())\n",
    "print(a.mean())\n",
    "print(a.min())\n",
    "print(a.argmin())\n",
    "print(a.max())\n",
    "print(a.argmax())"
   ]
  },
  {
   "cell_type": "code",
   "execution_count": 16,
   "id": "1612fae7",
   "metadata": {},
   "outputs": [
    {
     "name": "stdout",
     "output_type": "stream",
     "text": [
      "[ True False  True  True  True False  True  True]\n",
      "[False  True False False False  True False False]\n",
      "[False False False False False False False False]\n"
     ]
    }
   ],
   "source": [
    "print(a<b)\n",
    "print(a>b)\n",
    "print(a==b)"
   ]
  },
  {
   "cell_type": "code",
   "execution_count": 18,
   "id": "2b3b47eb",
   "metadata": {},
   "outputs": [
    {
     "name": "stdout",
     "output_type": "stream",
     "text": [
      "[ True  True  True  True  True  True  True  True]\n",
      "[ True  True  True  True  True  True  True  True]\n",
      "[0 0 0 0 0 0 0 0]\n"
     ]
    }
   ],
   "source": [
    "print(np.logical_or(a,b))\n",
    "print(np.logical_and(a,b))\n",
    "print(np.logical_not(a,b))"
   ]
  },
  {
   "cell_type": "markdown",
   "id": "d6777dec",
   "metadata": {},
   "source": [
    "### Boolean Indexing"
   ]
  },
  {
   "cell_type": "code",
   "execution_count": 47,
   "id": "1802a2d9",
   "metadata": {},
   "outputs": [
    {
     "name": "stdout",
     "output_type": "stream",
     "text": [
      "['t' 'b' 'r' 'd' 'e' 'f' 'z' 'a']\n",
      "[ 8  5 13 15  8 19 11  8]\n"
     ]
    }
   ],
   "source": [
    "import numpy as np\n",
    "a=np.array(['t','b','r','d','e','f','z','a'])\n",
    "b=np.random.randint(1,20,8)\n",
    "print(a)\n",
    "print(b)"
   ]
  },
  {
   "cell_type": "code",
   "execution_count": 48,
   "id": "d6fbbf9c",
   "metadata": {},
   "outputs": [
    {
     "name": "stdout",
     "output_type": "stream",
     "text": [
      "[False False  True  True False  True  True False]\n"
     ]
    }
   ],
   "source": [
    "print(b>10)"
   ]
  },
  {
   "cell_type": "code",
   "execution_count": 49,
   "id": "b6547d83",
   "metadata": {},
   "outputs": [
    {
     "name": "stdout",
     "output_type": "stream",
     "text": [
      "[13 15 19 11]\n"
     ]
    }
   ],
   "source": [
    "bool_arr= b[b>10]\n",
    "print(bool_arr)"
   ]
  },
  {
   "cell_type": "code",
   "execution_count": 50,
   "id": "dd3ed855",
   "metadata": {},
   "outputs": [
    {
     "name": "stdout",
     "output_type": "stream",
     "text": [
      "[13 15 19 11]\n"
     ]
    }
   ],
   "source": [
    "print(b[b>10])"
   ]
  },
  {
   "cell_type": "code",
   "execution_count": 51,
   "id": "35c02fba",
   "metadata": {},
   "outputs": [
    {
     "name": "stdout",
     "output_type": "stream",
     "text": [
      "[13 11]\n"
     ]
    }
   ],
   "source": [
    "new_arr= b[(b>10) & (b<15)]\n",
    "print(new_arr)"
   ]
  },
  {
   "cell_type": "code",
   "execution_count": 53,
   "id": "d41c7c9a",
   "metadata": {},
   "outputs": [
    {
     "name": "stdout",
     "output_type": "stream",
     "text": [
      "[ 8  5 13 15  8 19 11  8]\n"
     ]
    },
    {
     "data": {
      "text/plain": [
       "array([ 8,  5, 13, 15,  8, 19, 11,  8])"
      ]
     },
     "execution_count": 53,
     "metadata": {},
     "output_type": "execute_result"
    }
   ],
   "source": [
    "print(b)\n",
    "c=b\n",
    "c"
   ]
  },
  {
   "cell_type": "code",
   "execution_count": 75,
   "id": "ef9e1655",
   "metadata": {},
   "outputs": [
    {
     "name": "stdout",
     "output_type": "stream",
     "text": [
      "(array([0, 1, 4], dtype=int64),)\n"
     ]
    }
   ],
   "source": [
    "#indexing of non zero elements\n",
    "d=np.array([1,2,0,0,3,0])\n",
    "print(np.where(d!=0))"
   ]
  },
  {
   "cell_type": "code",
   "execution_count": 79,
   "id": "8a40a4f0",
   "metadata": {},
   "outputs": [
    {
     "data": {
      "text/plain": [
       "array([-1,  2, -1,  4, -1,  6, -1,  8, -1, 10])"
      ]
     },
     "execution_count": 79,
     "metadata": {},
     "output_type": "execute_result"
    }
   ],
   "source": [
    "#odd occurance -1\n",
    "e=np.array([1,2,3,4,5,6,7,8,9,10])\n",
    "odd=e[e%2!=0]=-1\n",
    "e"
   ]
  },
  {
   "cell_type": "code",
   "execution_count": 91,
   "id": "081ed444",
   "metadata": {},
   "outputs": [
    {
     "data": {
      "text/plain": [
       "array([23, 45,  6, 26,  0, 12,  8, 30])"
      ]
     },
     "execution_count": 91,
     "metadata": {},
     "output_type": "execute_result"
    }
   ],
   "source": [
    "#replace maximum by zero\n",
    "f=np.array([23,45,6,26,77,12,8,30])\n",
    "maxi=np.argmax(f)\n",
    "f[maxi]=0\n",
    "f"
   ]
  },
  {
   "cell_type": "code",
   "execution_count": 98,
   "id": "cee575ca",
   "metadata": {},
   "outputs": [
    {
     "data": {
      "text/plain": [
       "array([23, 45,  0, 26, 77, 12,  0, 30, 38, 66])"
      ]
     },
     "execution_count": 98,
     "metadata": {},
     "output_type": "execute_result"
    }
   ],
   "source": [
    "g=np.array([23,45,6,26,77,12,8,30,38,66])\n",
    "idx=np.where((g>=3)&(g<=8))\n",
    "g[idx]=0\n",
    "g"
   ]
  },
  {
   "cell_type": "code",
   "execution_count": null,
   "id": "47509370",
   "metadata": {},
   "outputs": [],
   "source": []
  },
  {
   "cell_type": "code",
   "execution_count": 3,
   "id": "3104f2ae",
   "metadata": {},
   "outputs": [
    {
     "name": "stdout",
     "output_type": "stream",
     "text": [
      "[[16 21 11 14  6 25]\n",
      " [ 9 22 23 28 16  1]\n",
      " [15 11 27  3 10 27]\n",
      " [ 1 16  9  8 13 15]\n",
      " [28  3 23 18 25  3]]\n"
     ]
    }
   ],
   "source": [
    "import numpy as np\n",
    "a=np.random.randint(1,30,(5,6))\n",
    "print(a)"
   ]
  },
  {
   "cell_type": "code",
   "execution_count": 4,
   "id": "442108a2",
   "metadata": {},
   "outputs": [
    {
     "name": "stdout",
     "output_type": "stream",
     "text": [
      "[[False  True False False False  True]\n",
      " [False  True  True  True False False]\n",
      " [False False  True False False  True]\n",
      " [False False False False False False]\n",
      " [ True False  True False  True False]]\n"
     ]
    }
   ],
   "source": [
    "bool_arr=a>20\n",
    "print(bool_arr)"
   ]
  },
  {
   "cell_type": "code",
   "execution_count": 5,
   "id": "36696dfb",
   "metadata": {},
   "outputs": [
    {
     "name": "stdout",
     "output_type": "stream",
     "text": [
      "[21 25 22 23 28 27 27 28 23 25]\n"
     ]
    }
   ],
   "source": [
    "print(a[bool_arr])"
   ]
  },
  {
   "cell_type": "code",
   "execution_count": 6,
   "id": "9ee0f818",
   "metadata": {},
   "outputs": [
    {
     "name": "stdout",
     "output_type": "stream",
     "text": [
      "[[16 21 11 14  6 25]\n",
      " [ 9 22 23 28 16  1]\n",
      " [15 11 27  3 10 27]\n",
      " [ 1 16  9  8 13 15]\n",
      " [28  3 23 18 25  3]]\n"
     ]
    }
   ],
   "source": [
    "b=a\n",
    "print(a)"
   ]
  },
  {
   "cell_type": "code",
   "execution_count": 9,
   "id": "88a7ff9a",
   "metadata": {},
   "outputs": [
    {
     "name": "stdout",
     "output_type": "stream",
     "text": [
      "[[ 16 100  11  14   6 100]\n",
      " [  9 100 100 100  16   1]\n",
      " [ 15  11 100   3  10 100]\n",
      " [  1  16   9   8  13  15]\n",
      " [100   3 100  18 100   3]]\n"
     ]
    }
   ],
   "source": [
    "b[bool_arr]=100\n",
    "print(b)"
   ]
  },
  {
   "cell_type": "code",
   "execution_count": 18,
   "id": "b23f38a1",
   "metadata": {},
   "outputs": [
    {
     "name": "stdout",
     "output_type": "stream",
     "text": [
      "[ True  True False False False]\n"
     ]
    }
   ],
   "source": [
    "bool_arr=b[:,1]==100\n",
    "print(bool_arr)"
   ]
  },
  {
   "cell_type": "code",
   "execution_count": 19,
   "id": "2e698f56",
   "metadata": {},
   "outputs": [
    {
     "name": "stdout",
     "output_type": "stream",
     "text": [
      "[[ 16  99  99  14   6 100]\n",
      " [  9  99  99 100  16   1]\n",
      " [ 15  11  99   3  10 100]\n",
      " [  1  16  99   8  13  15]\n",
      " [100   3  99  18 100   3]]\n"
     ]
    }
   ],
   "source": [
    "b[bool_arr,1]=99\n",
    "print(b)"
   ]
  },
  {
   "cell_type": "code",
   "execution_count": 20,
   "id": "3a64282a",
   "metadata": {},
   "outputs": [
    {
     "name": "stdout",
     "output_type": "stream",
     "text": [
      "[[ 3 23 23  1 23 12]\n",
      " [11 14  7 29  6 22]\n",
      " [12 27  5 28 15 24]\n",
      " [27 18  4 27 17 22]\n",
      " [16 19 24 13 15  3]]\n"
     ]
    }
   ],
   "source": [
    "import numpy as np\n",
    "a=np.random.randint(1,30,(5,6))\n",
    "print(a)"
   ]
  },
  {
   "cell_type": "code",
   "execution_count": 29,
   "id": "bd712672",
   "metadata": {},
   "outputs": [
    {
     "name": "stdout",
     "output_type": "stream",
     "text": [
      "[ 3 11 12 27 16]\n",
      "[3, 11, 12, 16, 27]\n"
     ]
    }
   ],
   "source": [
    "arr=a[0:5,0]\n",
    "print(arr)\n",
    "sort=sorted(arr)\n",
    "print(sort)"
   ]
  },
  {
   "cell_type": "code",
   "execution_count": 37,
   "id": "25144d83",
   "metadata": {},
   "outputs": [
    {
     "name": "stdout",
     "output_type": "stream",
     "text": [
      "[[ 1  3 12 23 23 23]\n",
      " [ 6  7 11 14 22 29]\n",
      " [ 5 12 15 24 27 28]\n",
      " [ 4 17 18 22 27 27]\n",
      " [ 3 13 15 16 19 24]]\n",
      "None\n"
     ]
    }
   ],
   "source": [
    "arr=a[0:5,0:6]\n",
    "print(arr)\n",
    "sort=arr.sort()\n",
    "print(sort)"
   ]
  },
  {
   "cell_type": "markdown",
   "id": "9f597f42",
   "metadata": {},
   "source": [
    "### Broadcasting"
   ]
  },
  {
   "cell_type": "code",
   "execution_count": 39,
   "id": "16dbed62",
   "metadata": {},
   "outputs": [
    {
     "name": "stdout",
     "output_type": "stream",
     "text": [
      "[[6 7 2]\n",
      " [7 9 4]]\n",
      "[[5 7 1]\n",
      " [1 9 3]]\n"
     ]
    }
   ],
   "source": [
    "import numpy as np\n",
    "x=np.random.randint(1,10,(2,3))\n",
    "y=np.random.randint(1,10,(2,3))\n",
    "print(x)\n",
    "print(y)"
   ]
  },
  {
   "cell_type": "code",
   "execution_count": 40,
   "id": "2529f088",
   "metadata": {},
   "outputs": [
    {
     "data": {
      "text/plain": [
       "array([[1, 0, 1],\n",
       "       [6, 0, 1]])"
      ]
     },
     "execution_count": 40,
     "metadata": {},
     "output_type": "execute_result"
    }
   ],
   "source": [
    "x-y"
   ]
  },
  {
   "cell_type": "code",
   "execution_count": 45,
   "id": "b3a761cc",
   "metadata": {},
   "outputs": [
    {
     "name": "stdout",
     "output_type": "stream",
     "text": [
      "[[4 4 9]\n",
      " [8 5 2]]\n",
      "[[1 1]\n",
      " [3 1]\n",
      " [7 7]]\n"
     ]
    }
   ],
   "source": [
    "import numpy as np\n",
    "x=np.random.randint(1,10,(2,3))\n",
    "y=np.random.randint(1,10,(3,2))\n",
    "print(x)\n",
    "print(y)"
   ]
  },
  {
   "cell_type": "code",
   "execution_count": 49,
   "id": "22ba5b43",
   "metadata": {},
   "outputs": [
    {
     "name": "stdout",
     "output_type": "stream",
     "text": [
      "[[1 3 7]\n",
      " [1 1 7]]\n"
     ]
    },
    {
     "data": {
      "text/plain": [
       "array([[ 3,  1,  2],\n",
       "       [ 7,  4, -5]])"
      ]
     },
     "execution_count": 49,
     "metadata": {},
     "output_type": "execute_result"
    }
   ],
   "source": [
    "# x-y gives error since it is of different size so,\n",
    "z=np.transpose(y)\n",
    "print(z)\n",
    "x-z"
   ]
  },
  {
   "cell_type": "code",
   "execution_count": 50,
   "id": "274474eb",
   "metadata": {},
   "outputs": [
    {
     "name": "stdout",
     "output_type": "stream",
     "text": [
      "[[9 4 4]\n",
      " [3 1 2]\n",
      " [3 7 8]]\n",
      "[5 4 2]\n"
     ]
    }
   ],
   "source": [
    "import numpy as np\n",
    "x=np.random.randint(1,10,(3,3))\n",
    "y=np.random.randint(1,10,(3))\n",
    "print(x)\n",
    "print(y)"
   ]
  },
  {
   "cell_type": "code",
   "execution_count": 51,
   "id": "eedf281c",
   "metadata": {},
   "outputs": [
    {
     "data": {
      "text/plain": [
       "array([[ 4,  0,  2],\n",
       "       [-2, -3,  0],\n",
       "       [-2,  3,  6]])"
      ]
     },
     "execution_count": 51,
     "metadata": {},
     "output_type": "execute_result"
    }
   ],
   "source": [
    "x-y "
   ]
  },
  {
   "cell_type": "code",
   "execution_count": null,
   "id": "a5678c0d",
   "metadata": {},
   "outputs": [],
   "source": []
  }
 ],
 "metadata": {
  "kernelspec": {
   "display_name": "Python 3 (ipykernel)",
   "language": "python",
   "name": "python3"
  },
  "language_info": {
   "codemirror_mode": {
    "name": "ipython",
    "version": 3
   },
   "file_extension": ".py",
   "mimetype": "text/x-python",
   "name": "python",
   "nbconvert_exporter": "python",
   "pygments_lexer": "ipython3",
   "version": "3.8.19"
  }
 },
 "nbformat": 4,
 "nbformat_minor": 5
}
